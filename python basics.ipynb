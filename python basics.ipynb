{
 "cells": [
  {
   "cell_type": "code",
   "execution_count": 1,
   "id": "2390b573",
   "metadata": {},
   "outputs": [
    {
     "name": "stdout",
     "output_type": "stream",
     "text": [
      "group 6\n"
     ]
    }
   ],
   "source": [
    "print(\"group 6\")"
   ]
  },
  {
   "cell_type": "code",
   "execution_count": 57,
   "id": "b9e1a2e3",
   "metadata": {},
   "outputs": [
    {
     "name": "stdout",
     "output_type": "stream",
     "text": [
      "group 6\n",
      "group 6group 6\n",
      "group 6class\n",
      "GROUP 6\n",
      "group 6\n",
      "1\n",
      "gpoup 6\n"
     ]
    },
    {
     "data": {
      "text/plain": [
       "True"
      ]
     },
     "execution_count": 57,
     "metadata": {},
     "output_type": "execute_result"
    }
   ],
   "source": [
    "my_string= \"group 6\"\n",
    "print(my_string)\n",
    "print (my_string * 2)\n",
    "print(my_string +'class')\n",
    "print(my_string.upper())\n",
    "print(my_string.lower())\n",
    "print (my_string.count('g'))\n",
    "print(my_string.replace('r', 'p'))\n",
    "'g' in my_string"
   ]
  },
  {
   "cell_type": "code",
   "execution_count": 2,
   "id": "229daa23",
   "metadata": {},
   "outputs": [
    {
     "name": "stdout",
     "output_type": "stream",
     "text": [
      "lama 20 years old\n"
     ]
    }
   ],
   "source": [
    "print(\"lama\", 20 ,\"years old\")"
   ]
  },
  {
   "cell_type": "code",
   "execution_count": 3,
   "id": "5444cbb6",
   "metadata": {},
   "outputs": [
    {
     "name": "stdout",
     "output_type": "stream",
     "text": [
      "hello world\n"
     ]
    }
   ],
   "source": [
    "print(\"hello world\")"
   ]
  },
  {
   "cell_type": "code",
   "execution_count": 4,
   "id": "2be6d605",
   "metadata": {},
   "outputs": [
    {
     "name": "stdout",
     "output_type": "stream",
     "text": [
      "<class 'float'>\n"
     ]
    }
   ],
   "source": [
    "n=9.7\n",
    "print(type(n))"
   ]
  },
  {
   "cell_type": "code",
   "execution_count": 5,
   "id": "5b7fee3c",
   "metadata": {},
   "outputs": [
    {
     "name": "stdout",
     "output_type": "stream",
     "text": [
      "<class 'int'>\n"
     ]
    }
   ],
   "source": [
    "n=9\n",
    "print(type(n))"
   ]
  },
  {
   "cell_type": "code",
   "execution_count": 6,
   "id": "17e031ee",
   "metadata": {},
   "outputs": [
    {
     "name": "stdout",
     "output_type": "stream",
     "text": [
      "<class 'int'>\n",
      "27\n",
      "12\n"
     ]
    }
   ],
   "source": [
    "my_num= 6\n",
    "print(type(my_num))\n",
    "print(pow(3,3))\n",
    "print(max(12,9))"
   ]
  },
  {
   "cell_type": "code",
   "execution_count": 7,
   "id": "34d7afcb",
   "metadata": {},
   "outputs": [
    {
     "name": "stdout",
     "output_type": "stream",
     "text": [
      "('hi lama', 12, 4.9, 'how are you?')\n",
      "(12, 4.9)\n",
      "(4.9, 'how are you?')\n",
      "(4.9, 'hi lama', 4.9, 'hi lama')\n",
      "('hi lama', 12, 4.9, 'how are you?', 4.9, 'hi lama')\n"
     ]
    }
   ],
   "source": [
    "tuple = \"hi lama\",12 ,4.9 ,\"how are you?\"\n",
    "tinytuple= 4.9 , \"hi lama\"\n",
    "print(tuple)\n",
    "print(tuple[1:3])\n",
    "print(tuple[2:])\n",
    "print(tinytuple * 2)\n",
    "print (tuple + tinytuple)"
   ]
  },
  {
   "cell_type": "code",
   "execution_count": 49,
   "id": "219ebbc2",
   "metadata": {},
   "outputs": [
    {
     "name": "stdout",
     "output_type": "stream",
     "text": [
      "['my', 'list', 'its', 'simple']\n",
      "['list', 'its']\n",
      "2\n",
      "3\n",
      "1\n"
     ]
    }
   ],
   "source": [
    "m=\"its\"\n",
    "z= \"simple\"\n",
    "my_list=['my','list', m , z]\n",
    "print(my_list)\n",
    "print(my_list[1:3])\n",
    "print(my_list.index(m))\n",
    "print(my_list.index(z))\n",
    "print(my_list.count(z))"
   ]
  },
  {
   "cell_type": "code",
   "execution_count": 13,
   "id": "b169b55f",
   "metadata": {
    "scrolled": true
   },
   "outputs": [
    {
     "name": "stdout",
     "output_type": "stream",
     "text": [
      "6\n",
      "8\n",
      "36\n",
      "3.0\n",
      "6\n"
     ]
    }
   ],
   "source": [
    "x=6 \n",
    "print (x)\n",
    "print (x+2)\n",
    "print (x**2)\n",
    "print (x/float (2))\n",
    "print ('6')"
   ]
  }
 ],
 "metadata": {
  "kernelspec": {
   "display_name": "Python 3 (ipykernel)",
   "language": "python",
   "name": "python3"
  },
  "language_info": {
   "codemirror_mode": {
    "name": "ipython",
    "version": 3
   },
   "file_extension": ".py",
   "mimetype": "text/x-python",
   "name": "python",
   "nbconvert_exporter": "python",
   "pygments_lexer": "ipython3",
   "version": "3.9.7"
  }
 },
 "nbformat": 4,
 "nbformat_minor": 5
}
