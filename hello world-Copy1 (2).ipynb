{
 "cells": [
  {
   "cell_type": "code",
   "execution_count": 20,
   "id": "73b46438",
   "metadata": {},
   "outputs": [
    {
     "name": "stdout",
     "output_type": "stream",
     "text": [
      "group 6\n"
     ]
    }
   ],
   "source": [
    "print(\"group 6\")"
   ]
  },
  {
   "cell_type": "code",
   "execution_count": 22,
   "id": "3b86dd34",
   "metadata": {},
   "outputs": [
    {
     "name": "stdout",
     "output_type": "stream",
     "text": [
      "lama 20 years old\n"
     ]
    }
   ],
   "source": [
    "print(\"lama\", 20 ,\"years old\")"
   ]
  },
  {
   "cell_type": "code",
   "execution_count": 1,
   "id": "aad761a4",
   "metadata": {},
   "outputs": [
    {
     "name": "stdout",
     "output_type": "stream",
     "text": [
      "hello world\n"
     ]
    }
   ],
   "source": [
    "print(\"hello world\")"
   ]
  },
  {
   "cell_type": "code",
   "execution_count": 23,
   "id": "70b41b06",
   "metadata": {},
   "outputs": [
    {
     "name": "stdout",
     "output_type": "stream",
     "text": [
      "<class 'float'>\n"
     ]
    }
   ],
   "source": [
    "n=9.7\n",
    "print(type(n))"
   ]
  },
  {
   "cell_type": "code",
   "execution_count": 1,
   "id": "2bea323d",
   "metadata": {},
   "outputs": [
    {
     "name": "stdout",
     "output_type": "stream",
     "text": [
      "<class 'int'>\n"
     ]
    }
   ],
   "source": [
    "n=9\n",
    "print(type(n))"
   ]
  },
  {
   "cell_type": "code",
   "execution_count": 15,
   "id": "5ad1026d",
   "metadata": {},
   "outputs": [
    {
     "name": "stdout",
     "output_type": "stream",
     "text": [
      "<class 'int'>\n",
      "27\n",
      "12\n"
     ]
    }
   ],
   "source": [
    "my_num= 6\n",
    "print(type(my_num))\n",
    "print(pow(3,3))\n",
    "print(max(12,9))\n"
   ]
  },
  {
   "cell_type": "code",
   "execution_count": 24,
   "id": "c1367d3d",
   "metadata": {},
   "outputs": [
    {
     "name": "stdout",
     "output_type": "stream",
     "text": [
      "('hi lama', 12, 4.9, 'how are you?')\n",
      "(12, 4.9)\n",
      "(4.9, 'how are you?')\n",
      "(4.9, 'hi lama', 4.9, 'hi lama')\n",
      "('hi lama', 12, 4.9, 'how are you?', 4.9, 'hi lama')\n"
     ]
    }
   ],
   "source": [
    "tuple = \"hi lama\",12 ,4.9 ,\"how are you?\"\n",
    "tinytuple= 4.9 , \"hi lama\"\n",
    "print(tuple)\n",
    "print(tuple[1:3])\n",
    "print(tuple[2:])\n",
    "print(tinytuple * 2)\n",
    "print (tuple + tinytuple)"
   ]
  },
  {
   "cell_type": "code",
   "execution_count": 28,
   "id": "8c63cb74",
   "metadata": {},
   "outputs": [
    {
     "name": "stdout",
     "output_type": "stream",
     "text": [
      "['my', 'list', 'its', 'simple']\n",
      "['list', 'its']\n"
     ]
    }
   ],
   "source": [
    "m=\"its\"\n",
    "z= \"simple\"\n",
    "my_list=['my','list', m , z]\n",
    "print(my_list)\n",
    "print(my_list[1:3])"
   ]
  }
 ],
 "metadata": {
  "kernelspec": {
   "display_name": "Python 3 (ipykernel)",
   "language": "python",
   "name": "python3"
  },
  "language_info": {
   "codemirror_mode": {
    "name": "ipython",
    "version": 3
   },
   "file_extension": ".py",
   "mimetype": "text/x-python",
   "name": "python",
   "nbconvert_exporter": "python",
   "pygments_lexer": "ipython3",
   "version": "3.9.12"
  }
 },
 "nbformat": 4,
 "nbformat_minor": 5
}
