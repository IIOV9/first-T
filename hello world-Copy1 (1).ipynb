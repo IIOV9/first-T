{
 "cells": [
  {
   "cell_type": "code",
   "execution_count": 1,
   "id": "aad761a4",
   "metadata": {},
   "outputs": [
    {
     "name": "stdout",
     "output_type": "stream",
     "text": [
      "hello world\n"
     ]
    }
   ],
   "source": [
    "print(\"hello world\")"
   ]
  },
  {
   "cell_type": "code",
   "execution_count": 1,
   "id": "2bea323d",
   "metadata": {},
   "outputs": [
    {
     "name": "stdout",
     "output_type": "stream",
     "text": [
      "<class 'int'>\n"
     ]
    }
   ],
   "source": [
    "n=9\n",
    "print(type(n))"
   ]
  },
  {
   "cell_type": "code",
   "execution_count": 15,
   "id": "15c17b91",
   "metadata": {},
   "outputs": [
    {
     "name": "stdout",
     "output_type": "stream",
     "text": [
      "<class 'int'>\n",
      "27\n",
      "12\n"
     ]
    }
   ],
   "source": [
    "my_num= 6\n",
    "print(type(my_num))\n",
    "print(pow(3,3))\n",
    "print(max(12,9))\n"
   ]
  },
  {
   "cell_type": "code",
   "execution_count": 19,
   "id": "ea782260",
   "metadata": {},
   "outputs": [
    {
     "name": "stdout",
     "output_type": "stream",
     "text": [
      "('hi lama', 12, 4.9, 'how are you?')\n",
      "(12, 4.9)\n"
     ]
    }
   ],
   "source": [
    "tuple = \"hi lama\",12 ,4.9 ,\"how are you?\"\n",
    "print(tuple)\n",
    "print(tuple[1:3])"
   ]
  },
  {
   "cell_type": "code",
   "execution_count": null,
   "id": "8b07a59e",
   "metadata": {},
   "outputs": [],
   "source": []
  }
 ],
 "metadata": {
  "kernelspec": {
   "display_name": "Python 3 (ipykernel)",
   "language": "python",
   "name": "python3"
  },
  "language_info": {
   "codemirror_mode": {
    "name": "ipython",
    "version": 3
   },
   "file_extension": ".py",
   "mimetype": "text/x-python",
   "name": "python",
   "nbconvert_exporter": "python",
   "pygments_lexer": "ipython3",
   "version": "3.9.12"
  }
 },
 "nbformat": 4,
 "nbformat_minor": 5
}
